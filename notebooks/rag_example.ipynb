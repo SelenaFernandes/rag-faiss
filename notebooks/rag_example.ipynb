{
 "cells": [
  {
   "cell_type": "code",
   "execution_count": 5,
   "metadata": {},
   "outputs": [
    {
     "name": "stdout",
     "output_type": "stream",
     "text": [
      "Requirement already satisfied: transformers in c:\\users\\lucelena_sousa\\documents\\rag-hidden-docs\\rag-env\\lib\\site-packages (4.45.1)\n",
      "Requirement already satisfied: torch in c:\\users\\lucelena_sousa\\documents\\rag-hidden-docs\\rag-env\\lib\\site-packages (2.4.1)\n",
      "Requirement already satisfied: langchain in c:\\users\\lucelena_sousa\\documents\\rag-hidden-docs\\rag-env\\lib\\site-packages (0.3.2)\n",
      "Requirement already satisfied: faiss-cpu in c:\\users\\lucelena_sousa\\documents\\rag-hidden-docs\\rag-env\\lib\\site-packages (1.8.0.post1)\n",
      "Requirement already satisfied: PyPDF2 in c:\\users\\lucelena_sousa\\documents\\rag-hidden-docs\\rag-env\\lib\\site-packages (3.0.1)\n",
      "Requirement already satisfied: filelock in c:\\users\\lucelena_sousa\\documents\\rag-hidden-docs\\rag-env\\lib\\site-packages (from transformers) (3.16.1)\n",
      "Requirement already satisfied: huggingface-hub<1.0,>=0.23.2 in c:\\users\\lucelena_sousa\\documents\\rag-hidden-docs\\rag-env\\lib\\site-packages (from transformers) (0.25.1)\n",
      "Requirement already satisfied: numpy>=1.17 in c:\\users\\lucelena_sousa\\documents\\rag-hidden-docs\\rag-env\\lib\\site-packages (from transformers) (1.26.4)\n",
      "Requirement already satisfied: packaging>=20.0 in c:\\users\\lucelena_sousa\\documents\\rag-hidden-docs\\rag-env\\lib\\site-packages (from transformers) (24.1)\n",
      "Requirement already satisfied: pyyaml>=5.1 in c:\\users\\lucelena_sousa\\documents\\rag-hidden-docs\\rag-env\\lib\\site-packages (from transformers) (6.0.2)\n",
      "Requirement already satisfied: regex!=2019.12.17 in c:\\users\\lucelena_sousa\\documents\\rag-hidden-docs\\rag-env\\lib\\site-packages (from transformers) (2024.9.11)\n",
      "Requirement already satisfied: requests in c:\\users\\lucelena_sousa\\documents\\rag-hidden-docs\\rag-env\\lib\\site-packages (from transformers) (2.32.3)\n",
      "Requirement already satisfied: safetensors>=0.4.1 in c:\\users\\lucelena_sousa\\documents\\rag-hidden-docs\\rag-env\\lib\\site-packages (from transformers) (0.4.5)\n",
      "Requirement already satisfied: tokenizers<0.21,>=0.20 in c:\\users\\lucelena_sousa\\documents\\rag-hidden-docs\\rag-env\\lib\\site-packages (from transformers) (0.20.0)\n",
      "Requirement already satisfied: tqdm>=4.27 in c:\\users\\lucelena_sousa\\documents\\rag-hidden-docs\\rag-env\\lib\\site-packages (from transformers) (4.66.5)\n",
      "Requirement already satisfied: typing-extensions>=4.8.0 in c:\\users\\lucelena_sousa\\documents\\rag-hidden-docs\\rag-env\\lib\\site-packages (from torch) (4.12.2)\n",
      "Requirement already satisfied: sympy in c:\\users\\lucelena_sousa\\documents\\rag-hidden-docs\\rag-env\\lib\\site-packages (from torch) (1.13.3)\n",
      "Requirement already satisfied: networkx in c:\\users\\lucelena_sousa\\documents\\rag-hidden-docs\\rag-env\\lib\\site-packages (from torch) (3.3)\n",
      "Requirement already satisfied: jinja2 in c:\\users\\lucelena_sousa\\documents\\rag-hidden-docs\\rag-env\\lib\\site-packages (from torch) (3.1.4)\n",
      "Requirement already satisfied: fsspec in c:\\users\\lucelena_sousa\\documents\\rag-hidden-docs\\rag-env\\lib\\site-packages (from torch) (2024.9.0)\n",
      "Requirement already satisfied: setuptools in c:\\users\\lucelena_sousa\\documents\\rag-hidden-docs\\rag-env\\lib\\site-packages (from torch) (75.1.0)\n",
      "Requirement already satisfied: SQLAlchemy<3,>=1.4 in c:\\users\\lucelena_sousa\\documents\\rag-hidden-docs\\rag-env\\lib\\site-packages (from langchain) (2.0.35)\n",
      "Requirement already satisfied: aiohttp<4.0.0,>=3.8.3 in c:\\users\\lucelena_sousa\\documents\\rag-hidden-docs\\rag-env\\lib\\site-packages (from langchain) (3.10.8)\n",
      "Requirement already satisfied: langchain-core<0.4.0,>=0.3.8 in c:\\users\\lucelena_sousa\\documents\\rag-hidden-docs\\rag-env\\lib\\site-packages (from langchain) (0.3.8)\n",
      "Requirement already satisfied: langchain-text-splitters<0.4.0,>=0.3.0 in c:\\users\\lucelena_sousa\\documents\\rag-hidden-docs\\rag-env\\lib\\site-packages (from langchain) (0.3.0)\n",
      "Requirement already satisfied: langsmith<0.2.0,>=0.1.17 in c:\\users\\lucelena_sousa\\documents\\rag-hidden-docs\\rag-env\\lib\\site-packages (from langchain) (0.1.129)\n",
      "Requirement already satisfied: pydantic<3.0.0,>=2.7.4 in c:\\users\\lucelena_sousa\\documents\\rag-hidden-docs\\rag-env\\lib\\site-packages (from langchain) (2.9.2)\n",
      "Requirement already satisfied: tenacity!=8.4.0,<9.0.0,>=8.1.0 in c:\\users\\lucelena_sousa\\documents\\rag-hidden-docs\\rag-env\\lib\\site-packages (from langchain) (8.5.0)\n",
      "Requirement already satisfied: aiohappyeyeballs>=2.3.0 in c:\\users\\lucelena_sousa\\documents\\rag-hidden-docs\\rag-env\\lib\\site-packages (from aiohttp<4.0.0,>=3.8.3->langchain) (2.4.3)\n",
      "Requirement already satisfied: aiosignal>=1.1.2 in c:\\users\\lucelena_sousa\\documents\\rag-hidden-docs\\rag-env\\lib\\site-packages (from aiohttp<4.0.0,>=3.8.3->langchain) (1.3.1)\n",
      "Requirement already satisfied: attrs>=17.3.0 in c:\\users\\lucelena_sousa\\documents\\rag-hidden-docs\\rag-env\\lib\\site-packages (from aiohttp<4.0.0,>=3.8.3->langchain) (24.2.0)\n",
      "Requirement already satisfied: frozenlist>=1.1.1 in c:\\users\\lucelena_sousa\\documents\\rag-hidden-docs\\rag-env\\lib\\site-packages (from aiohttp<4.0.0,>=3.8.3->langchain) (1.4.1)\n",
      "Requirement already satisfied: multidict<7.0,>=4.5 in c:\\users\\lucelena_sousa\\documents\\rag-hidden-docs\\rag-env\\lib\\site-packages (from aiohttp<4.0.0,>=3.8.3->langchain) (6.1.0)\n",
      "Requirement already satisfied: yarl<2.0,>=1.12.0 in c:\\users\\lucelena_sousa\\documents\\rag-hidden-docs\\rag-env\\lib\\site-packages (from aiohttp<4.0.0,>=3.8.3->langchain) (1.13.1)\n",
      "Requirement already satisfied: jsonpatch<2.0,>=1.33 in c:\\users\\lucelena_sousa\\documents\\rag-hidden-docs\\rag-env\\lib\\site-packages (from langchain-core<0.4.0,>=0.3.8->langchain) (1.33)\n",
      "Requirement already satisfied: httpx<1,>=0.23.0 in c:\\users\\lucelena_sousa\\documents\\rag-hidden-docs\\rag-env\\lib\\site-packages (from langsmith<0.2.0,>=0.1.17->langchain) (0.27.2)\n",
      "Requirement already satisfied: orjson<4.0.0,>=3.9.14 in c:\\users\\lucelena_sousa\\documents\\rag-hidden-docs\\rag-env\\lib\\site-packages (from langsmith<0.2.0,>=0.1.17->langchain) (3.10.7)\n",
      "Requirement already satisfied: annotated-types>=0.6.0 in c:\\users\\lucelena_sousa\\documents\\rag-hidden-docs\\rag-env\\lib\\site-packages (from pydantic<3.0.0,>=2.7.4->langchain) (0.7.0)\n",
      "Requirement already satisfied: pydantic-core==2.23.4 in c:\\users\\lucelena_sousa\\documents\\rag-hidden-docs\\rag-env\\lib\\site-packages (from pydantic<3.0.0,>=2.7.4->langchain) (2.23.4)\n",
      "Requirement already satisfied: charset-normalizer<4,>=2 in c:\\users\\lucelena_sousa\\documents\\rag-hidden-docs\\rag-env\\lib\\site-packages (from requests->transformers) (3.3.2)\n",
      "Requirement already satisfied: idna<4,>=2.5 in c:\\users\\lucelena_sousa\\documents\\rag-hidden-docs\\rag-env\\lib\\site-packages (from requests->transformers) (3.10)\n",
      "Requirement already satisfied: urllib3<3,>=1.21.1 in c:\\users\\lucelena_sousa\\documents\\rag-hidden-docs\\rag-env\\lib\\site-packages (from requests->transformers) (2.2.3)\n",
      "Requirement already satisfied: certifi>=2017.4.17 in c:\\users\\lucelena_sousa\\documents\\rag-hidden-docs\\rag-env\\lib\\site-packages (from requests->transformers) (2024.8.30)\n",
      "Requirement already satisfied: greenlet!=0.4.17 in c:\\users\\lucelena_sousa\\documents\\rag-hidden-docs\\rag-env\\lib\\site-packages (from SQLAlchemy<3,>=1.4->langchain) (3.1.1)\n",
      "Requirement already satisfied: colorama in c:\\users\\lucelena_sousa\\documents\\rag-hidden-docs\\rag-env\\lib\\site-packages (from tqdm>=4.27->transformers) (0.4.6)\n",
      "Requirement already satisfied: MarkupSafe>=2.0 in c:\\users\\lucelena_sousa\\documents\\rag-hidden-docs\\rag-env\\lib\\site-packages (from jinja2->torch) (2.1.5)\n",
      "Requirement already satisfied: mpmath<1.4,>=1.1.0 in c:\\users\\lucelena_sousa\\documents\\rag-hidden-docs\\rag-env\\lib\\site-packages (from sympy->torch) (1.3.0)\n",
      "Requirement already satisfied: anyio in c:\\users\\lucelena_sousa\\documents\\rag-hidden-docs\\rag-env\\lib\\site-packages (from httpx<1,>=0.23.0->langsmith<0.2.0,>=0.1.17->langchain) (4.6.0)\n",
      "Requirement already satisfied: httpcore==1.* in c:\\users\\lucelena_sousa\\documents\\rag-hidden-docs\\rag-env\\lib\\site-packages (from httpx<1,>=0.23.0->langsmith<0.2.0,>=0.1.17->langchain) (1.0.6)\n",
      "Requirement already satisfied: sniffio in c:\\users\\lucelena_sousa\\documents\\rag-hidden-docs\\rag-env\\lib\\site-packages (from httpx<1,>=0.23.0->langsmith<0.2.0,>=0.1.17->langchain) (1.3.1)\n",
      "Requirement already satisfied: h11<0.15,>=0.13 in c:\\users\\lucelena_sousa\\documents\\rag-hidden-docs\\rag-env\\lib\\site-packages (from httpcore==1.*->httpx<1,>=0.23.0->langsmith<0.2.0,>=0.1.17->langchain) (0.14.0)\n",
      "Requirement already satisfied: jsonpointer>=1.9 in c:\\users\\lucelena_sousa\\documents\\rag-hidden-docs\\rag-env\\lib\\site-packages (from jsonpatch<2.0,>=1.33->langchain-core<0.4.0,>=0.3.8->langchain) (3.0.0)\n"
     ]
    }
   ],
   "source": [
    "!pip install transformers torch langchain faiss-cpu PyPDF2"
   ]
  },
  {
   "cell_type": "code",
   "execution_count": 5,
   "metadata": {},
   "outputs": [
    {
     "name": "stdout",
     "output_type": "stream",
     "text": [
      "Requirement already satisfied: langchain in c:\\users\\lucelena_sousa\\documents\\rag-hidden-docs\\rag-env\\lib\\site-packages (0.3.2)\n",
      "Requirement already satisfied: PyYAML>=5.3 in c:\\users\\lucelena_sousa\\documents\\rag-hidden-docs\\rag-env\\lib\\site-packages (from langchain) (6.0.2)\n",
      "Requirement already satisfied: SQLAlchemy<3,>=1.4 in c:\\users\\lucelena_sousa\\documents\\rag-hidden-docs\\rag-env\\lib\\site-packages (from langchain) (2.0.35)\n",
      "Requirement already satisfied: aiohttp<4.0.0,>=3.8.3 in c:\\users\\lucelena_sousa\\documents\\rag-hidden-docs\\rag-env\\lib\\site-packages (from langchain) (3.10.8)\n",
      "Requirement already satisfied: langchain-core<0.4.0,>=0.3.8 in c:\\users\\lucelena_sousa\\documents\\rag-hidden-docs\\rag-env\\lib\\site-packages (from langchain) (0.3.8)\n",
      "Requirement already satisfied: langchain-text-splitters<0.4.0,>=0.3.0 in c:\\users\\lucelena_sousa\\documents\\rag-hidden-docs\\rag-env\\lib\\site-packages (from langchain) (0.3.0)\n",
      "Requirement already satisfied: langsmith<0.2.0,>=0.1.17 in c:\\users\\lucelena_sousa\\documents\\rag-hidden-docs\\rag-env\\lib\\site-packages (from langchain) (0.1.129)\n",
      "Requirement already satisfied: numpy<2.0.0,>=1.26.0 in c:\\users\\lucelena_sousa\\documents\\rag-hidden-docs\\rag-env\\lib\\site-packages (from langchain) (1.26.4)\n",
      "Requirement already satisfied: pydantic<3.0.0,>=2.7.4 in c:\\users\\lucelena_sousa\\documents\\rag-hidden-docs\\rag-env\\lib\\site-packages (from langchain) (2.9.2)\n",
      "Requirement already satisfied: requests<3,>=2 in c:\\users\\lucelena_sousa\\documents\\rag-hidden-docs\\rag-env\\lib\\site-packages (from langchain) (2.32.3)\n",
      "Requirement already satisfied: tenacity!=8.4.0,<9.0.0,>=8.1.0 in c:\\users\\lucelena_sousa\\documents\\rag-hidden-docs\\rag-env\\lib\\site-packages (from langchain) (8.5.0)\n",
      "Requirement already satisfied: aiohappyeyeballs>=2.3.0 in c:\\users\\lucelena_sousa\\documents\\rag-hidden-docs\\rag-env\\lib\\site-packages (from aiohttp<4.0.0,>=3.8.3->langchain) (2.4.3)\n",
      "Requirement already satisfied: aiosignal>=1.1.2 in c:\\users\\lucelena_sousa\\documents\\rag-hidden-docs\\rag-env\\lib\\site-packages (from aiohttp<4.0.0,>=3.8.3->langchain) (1.3.1)\n",
      "Requirement already satisfied: attrs>=17.3.0 in c:\\users\\lucelena_sousa\\documents\\rag-hidden-docs\\rag-env\\lib\\site-packages (from aiohttp<4.0.0,>=3.8.3->langchain) (24.2.0)\n",
      "Requirement already satisfied: frozenlist>=1.1.1 in c:\\users\\lucelena_sousa\\documents\\rag-hidden-docs\\rag-env\\lib\\site-packages (from aiohttp<4.0.0,>=3.8.3->langchain) (1.4.1)\n",
      "Requirement already satisfied: multidict<7.0,>=4.5 in c:\\users\\lucelena_sousa\\documents\\rag-hidden-docs\\rag-env\\lib\\site-packages (from aiohttp<4.0.0,>=3.8.3->langchain) (6.1.0)\n",
      "Requirement already satisfied: yarl<2.0,>=1.12.0 in c:\\users\\lucelena_sousa\\documents\\rag-hidden-docs\\rag-env\\lib\\site-packages (from aiohttp<4.0.0,>=3.8.3->langchain) (1.13.1)\n",
      "Requirement already satisfied: jsonpatch<2.0,>=1.33 in c:\\users\\lucelena_sousa\\documents\\rag-hidden-docs\\rag-env\\lib\\site-packages (from langchain-core<0.4.0,>=0.3.8->langchain) (1.33)\n",
      "Requirement already satisfied: packaging<25,>=23.2 in c:\\users\\lucelena_sousa\\documents\\rag-hidden-docs\\rag-env\\lib\\site-packages (from langchain-core<0.4.0,>=0.3.8->langchain) (24.1)\n",
      "Requirement already satisfied: typing-extensions>=4.7 in c:\\users\\lucelena_sousa\\documents\\rag-hidden-docs\\rag-env\\lib\\site-packages (from langchain-core<0.4.0,>=0.3.8->langchain) (4.12.2)\n",
      "Requirement already satisfied: httpx<1,>=0.23.0 in c:\\users\\lucelena_sousa\\documents\\rag-hidden-docs\\rag-env\\lib\\site-packages (from langsmith<0.2.0,>=0.1.17->langchain) (0.27.2)\n",
      "Requirement already satisfied: orjson<4.0.0,>=3.9.14 in c:\\users\\lucelena_sousa\\documents\\rag-hidden-docs\\rag-env\\lib\\site-packages (from langsmith<0.2.0,>=0.1.17->langchain) (3.10.7)\n",
      "Requirement already satisfied: annotated-types>=0.6.0 in c:\\users\\lucelena_sousa\\documents\\rag-hidden-docs\\rag-env\\lib\\site-packages (from pydantic<3.0.0,>=2.7.4->langchain) (0.7.0)\n",
      "Requirement already satisfied: pydantic-core==2.23.4 in c:\\users\\lucelena_sousa\\documents\\rag-hidden-docs\\rag-env\\lib\\site-packages (from pydantic<3.0.0,>=2.7.4->langchain) (2.23.4)\n",
      "Requirement already satisfied: charset-normalizer<4,>=2 in c:\\users\\lucelena_sousa\\documents\\rag-hidden-docs\\rag-env\\lib\\site-packages (from requests<3,>=2->langchain) (3.3.2)\n",
      "Requirement already satisfied: idna<4,>=2.5 in c:\\users\\lucelena_sousa\\documents\\rag-hidden-docs\\rag-env\\lib\\site-packages (from requests<3,>=2->langchain) (3.10)\n",
      "Requirement already satisfied: urllib3<3,>=1.21.1 in c:\\users\\lucelena_sousa\\documents\\rag-hidden-docs\\rag-env\\lib\\site-packages (from requests<3,>=2->langchain) (2.2.3)\n",
      "Requirement already satisfied: certifi>=2017.4.17 in c:\\users\\lucelena_sousa\\documents\\rag-hidden-docs\\rag-env\\lib\\site-packages (from requests<3,>=2->langchain) (2024.8.30)\n",
      "Requirement already satisfied: greenlet!=0.4.17 in c:\\users\\lucelena_sousa\\documents\\rag-hidden-docs\\rag-env\\lib\\site-packages (from SQLAlchemy<3,>=1.4->langchain) (3.1.1)\n",
      "Requirement already satisfied: anyio in c:\\users\\lucelena_sousa\\documents\\rag-hidden-docs\\rag-env\\lib\\site-packages (from httpx<1,>=0.23.0->langsmith<0.2.0,>=0.1.17->langchain) (4.6.0)\n",
      "Requirement already satisfied: httpcore==1.* in c:\\users\\lucelena_sousa\\documents\\rag-hidden-docs\\rag-env\\lib\\site-packages (from httpx<1,>=0.23.0->langsmith<0.2.0,>=0.1.17->langchain) (1.0.6)\n",
      "Requirement already satisfied: sniffio in c:\\users\\lucelena_sousa\\documents\\rag-hidden-docs\\rag-env\\lib\\site-packages (from httpx<1,>=0.23.0->langsmith<0.2.0,>=0.1.17->langchain) (1.3.1)\n",
      "Requirement already satisfied: h11<0.15,>=0.13 in c:\\users\\lucelena_sousa\\documents\\rag-hidden-docs\\rag-env\\lib\\site-packages (from httpcore==1.*->httpx<1,>=0.23.0->langsmith<0.2.0,>=0.1.17->langchain) (0.14.0)\n",
      "Requirement already satisfied: jsonpointer>=1.9 in c:\\users\\lucelena_sousa\\documents\\rag-hidden-docs\\rag-env\\lib\\site-packages (from jsonpatch<2.0,>=1.33->langchain-core<0.4.0,>=0.3.8->langchain) (3.0.0)\n",
      "Note: you may need to restart the kernel to use updated packages.\n"
     ]
    }
   ],
   "source": [
    "pip install langchain"
   ]
  },
  {
   "cell_type": "code",
   "execution_count": 7,
   "metadata": {},
   "outputs": [
    {
     "name": "stdout",
     "output_type": "stream",
     "text": [
      "Requirement already satisfied: tqdm in c:\\users\\lucelena_sousa\\documents\\rag-hidden-docs\\rag-env\\lib\\site-packages (4.66.5)\n",
      "Collecting ipywidgets\n",
      "  Downloading ipywidgets-8.1.5-py3-none-any.whl.metadata (2.3 kB)\n",
      "Requirement already satisfied: colorama in c:\\users\\lucelena_sousa\\documents\\rag-hidden-docs\\rag-env\\lib\\site-packages (from tqdm) (0.4.6)\n",
      "Requirement already satisfied: comm>=0.1.3 in c:\\users\\lucelena_sousa\\documents\\rag-hidden-docs\\rag-env\\lib\\site-packages (from ipywidgets) (0.2.2)\n",
      "Requirement already satisfied: ipython>=6.1.0 in c:\\users\\lucelena_sousa\\documents\\rag-hidden-docs\\rag-env\\lib\\site-packages (from ipywidgets) (8.28.0)\n",
      "Requirement already satisfied: traitlets>=4.3.1 in c:\\users\\lucelena_sousa\\documents\\rag-hidden-docs\\rag-env\\lib\\site-packages (from ipywidgets) (5.14.3)\n",
      "Collecting widgetsnbextension~=4.0.12 (from ipywidgets)\n",
      "  Downloading widgetsnbextension-4.0.13-py3-none-any.whl.metadata (1.6 kB)\n",
      "Collecting jupyterlab-widgets~=3.0.12 (from ipywidgets)\n",
      "  Downloading jupyterlab_widgets-3.0.13-py3-none-any.whl.metadata (4.1 kB)\n",
      "Requirement already satisfied: decorator in c:\\users\\lucelena_sousa\\documents\\rag-hidden-docs\\rag-env\\lib\\site-packages (from ipython>=6.1.0->ipywidgets) (5.1.1)\n",
      "Requirement already satisfied: jedi>=0.16 in c:\\users\\lucelena_sousa\\documents\\rag-hidden-docs\\rag-env\\lib\\site-packages (from ipython>=6.1.0->ipywidgets) (0.19.1)\n",
      "Requirement already satisfied: matplotlib-inline in c:\\users\\lucelena_sousa\\documents\\rag-hidden-docs\\rag-env\\lib\\site-packages (from ipython>=6.1.0->ipywidgets) (0.1.7)\n",
      "Requirement already satisfied: prompt-toolkit<3.1.0,>=3.0.41 in c:\\users\\lucelena_sousa\\documents\\rag-hidden-docs\\rag-env\\lib\\site-packages (from ipython>=6.1.0->ipywidgets) (3.0.48)\n",
      "Requirement already satisfied: pygments>=2.4.0 in c:\\users\\lucelena_sousa\\documents\\rag-hidden-docs\\rag-env\\lib\\site-packages (from ipython>=6.1.0->ipywidgets) (2.18.0)\n",
      "Requirement already satisfied: stack-data in c:\\users\\lucelena_sousa\\documents\\rag-hidden-docs\\rag-env\\lib\\site-packages (from ipython>=6.1.0->ipywidgets) (0.6.3)\n",
      "Requirement already satisfied: parso<0.9.0,>=0.8.3 in c:\\users\\lucelena_sousa\\documents\\rag-hidden-docs\\rag-env\\lib\\site-packages (from jedi>=0.16->ipython>=6.1.0->ipywidgets) (0.8.4)\n",
      "Requirement already satisfied: wcwidth in c:\\users\\lucelena_sousa\\documents\\rag-hidden-docs\\rag-env\\lib\\site-packages (from prompt-toolkit<3.1.0,>=3.0.41->ipython>=6.1.0->ipywidgets) (0.2.13)\n",
      "Requirement already satisfied: executing>=1.2.0 in c:\\users\\lucelena_sousa\\documents\\rag-hidden-docs\\rag-env\\lib\\site-packages (from stack-data->ipython>=6.1.0->ipywidgets) (2.1.0)\n",
      "Requirement already satisfied: asttokens>=2.1.0 in c:\\users\\lucelena_sousa\\documents\\rag-hidden-docs\\rag-env\\lib\\site-packages (from stack-data->ipython>=6.1.0->ipywidgets) (2.4.1)\n",
      "Requirement already satisfied: pure-eval in c:\\users\\lucelena_sousa\\documents\\rag-hidden-docs\\rag-env\\lib\\site-packages (from stack-data->ipython>=6.1.0->ipywidgets) (0.2.3)\n",
      "Requirement already satisfied: six>=1.12.0 in c:\\users\\lucelena_sousa\\documents\\rag-hidden-docs\\rag-env\\lib\\site-packages (from asttokens>=2.1.0->stack-data->ipython>=6.1.0->ipywidgets) (1.16.0)\n",
      "Downloading ipywidgets-8.1.5-py3-none-any.whl (139 kB)\n",
      "Downloading jupyterlab_widgets-3.0.13-py3-none-any.whl (214 kB)\n",
      "Downloading widgetsnbextension-4.0.13-py3-none-any.whl (2.3 MB)\n",
      "   ---------------------------------------- 0.0/2.3 MB ? eta -:--:--\n",
      "   ---------------------------------------- 0.0/2.3 MB ? eta -:--:--\n",
      "   ------------- -------------------------- 0.8/2.3 MB 3.7 MB/s eta 0:00:01\n",
      "   ---------------------- ----------------- 1.3/2.3 MB 3.2 MB/s eta 0:00:01\n",
      "   ----------------------------------- ---- 2.1/2.3 MB 3.2 MB/s eta 0:00:01\n",
      "   ---------------------------------------- 2.3/2.3 MB 3.1 MB/s eta 0:00:00\n",
      "Installing collected packages: widgetsnbextension, jupyterlab-widgets, ipywidgets\n",
      "Successfully installed ipywidgets-8.1.5 jupyterlab-widgets-3.0.13 widgetsnbextension-4.0.13\n",
      "Note: you may need to restart the kernel to use updated packages.\n"
     ]
    }
   ],
   "source": [
    "pip install tqdm ipywidgets"
   ]
  },
  {
   "cell_type": "code",
   "execution_count": 9,
   "metadata": {},
   "outputs": [
    {
     "name": "stdout",
     "output_type": "stream",
     "text": [
      "Requirement already satisfied: jupyterlab in c:\\users\\lucelena_sousa\\documents\\rag-hidden-docs\\rag-env\\lib\\site-packages (4.2.5)\n",
      "Requirement already satisfied: async-lru>=1.0.0 in c:\\users\\lucelena_sousa\\documents\\rag-hidden-docs\\rag-env\\lib\\site-packages (from jupyterlab) (2.0.4)\n",
      "Requirement already satisfied: httpx>=0.25.0 in c:\\users\\lucelena_sousa\\documents\\rag-hidden-docs\\rag-env\\lib\\site-packages (from jupyterlab) (0.27.2)\n",
      "Requirement already satisfied: ipykernel>=6.5.0 in c:\\users\\lucelena_sousa\\documents\\rag-hidden-docs\\rag-env\\lib\\site-packages (from jupyterlab) (6.29.5)\n",
      "Requirement already satisfied: jinja2>=3.0.3 in c:\\users\\lucelena_sousa\\documents\\rag-hidden-docs\\rag-env\\lib\\site-packages (from jupyterlab) (3.1.4)\n",
      "Requirement already satisfied: jupyter-core in c:\\users\\lucelena_sousa\\documents\\rag-hidden-docs\\rag-env\\lib\\site-packages (from jupyterlab) (5.7.2)\n",
      "Requirement already satisfied: jupyter-lsp>=2.0.0 in c:\\users\\lucelena_sousa\\documents\\rag-hidden-docs\\rag-env\\lib\\site-packages (from jupyterlab) (2.2.5)\n",
      "Requirement already satisfied: jupyter-server<3,>=2.4.0 in c:\\users\\lucelena_sousa\\documents\\rag-hidden-docs\\rag-env\\lib\\site-packages (from jupyterlab) (2.14.2)\n",
      "Requirement already satisfied: jupyterlab-server<3,>=2.27.1 in c:\\users\\lucelena_sousa\\documents\\rag-hidden-docs\\rag-env\\lib\\site-packages (from jupyterlab) (2.27.3)\n",
      "Requirement already satisfied: notebook-shim>=0.2 in c:\\users\\lucelena_sousa\\documents\\rag-hidden-docs\\rag-env\\lib\\site-packages (from jupyterlab) (0.2.4)\n",
      "Requirement already satisfied: packaging in c:\\users\\lucelena_sousa\\documents\\rag-hidden-docs\\rag-env\\lib\\site-packages (from jupyterlab) (24.1)\n",
      "Requirement already satisfied: setuptools>=40.1.0 in c:\\users\\lucelena_sousa\\documents\\rag-hidden-docs\\rag-env\\lib\\site-packages (from jupyterlab) (75.1.0)\n",
      "Requirement already satisfied: tornado>=6.2.0 in c:\\users\\lucelena_sousa\\documents\\rag-hidden-docs\\rag-env\\lib\\site-packages (from jupyterlab) (6.4.1)\n",
      "Requirement already satisfied: traitlets in c:\\users\\lucelena_sousa\\documents\\rag-hidden-docs\\rag-env\\lib\\site-packages (from jupyterlab) (5.14.3)\n",
      "Requirement already satisfied: anyio in c:\\users\\lucelena_sousa\\documents\\rag-hidden-docs\\rag-env\\lib\\site-packages (from httpx>=0.25.0->jupyterlab) (4.6.0)\n",
      "Requirement already satisfied: certifi in c:\\users\\lucelena_sousa\\documents\\rag-hidden-docs\\rag-env\\lib\\site-packages (from httpx>=0.25.0->jupyterlab) (2024.8.30)\n",
      "Requirement already satisfied: httpcore==1.* in c:\\users\\lucelena_sousa\\documents\\rag-hidden-docs\\rag-env\\lib\\site-packages (from httpx>=0.25.0->jupyterlab) (1.0.6)\n",
      "Requirement already satisfied: idna in c:\\users\\lucelena_sousa\\documents\\rag-hidden-docs\\rag-env\\lib\\site-packages (from httpx>=0.25.0->jupyterlab) (3.10)\n",
      "Requirement already satisfied: sniffio in c:\\users\\lucelena_sousa\\documents\\rag-hidden-docs\\rag-env\\lib\\site-packages (from httpx>=0.25.0->jupyterlab) (1.3.1)\n",
      "Requirement already satisfied: h11<0.15,>=0.13 in c:\\users\\lucelena_sousa\\documents\\rag-hidden-docs\\rag-env\\lib\\site-packages (from httpcore==1.*->httpx>=0.25.0->jupyterlab) (0.14.0)\n",
      "Requirement already satisfied: comm>=0.1.1 in c:\\users\\lucelena_sousa\\documents\\rag-hidden-docs\\rag-env\\lib\\site-packages (from ipykernel>=6.5.0->jupyterlab) (0.2.2)\n",
      "Requirement already satisfied: debugpy>=1.6.5 in c:\\users\\lucelena_sousa\\documents\\rag-hidden-docs\\rag-env\\lib\\site-packages (from ipykernel>=6.5.0->jupyterlab) (1.8.6)\n",
      "Requirement already satisfied: ipython>=7.23.1 in c:\\users\\lucelena_sousa\\documents\\rag-hidden-docs\\rag-env\\lib\\site-packages (from ipykernel>=6.5.0->jupyterlab) (8.28.0)\n",
      "Requirement already satisfied: jupyter-client>=6.1.12 in c:\\users\\lucelena_sousa\\documents\\rag-hidden-docs\\rag-env\\lib\\site-packages (from ipykernel>=6.5.0->jupyterlab) (8.6.3)\n",
      "Requirement already satisfied: matplotlib-inline>=0.1 in c:\\users\\lucelena_sousa\\documents\\rag-hidden-docs\\rag-env\\lib\\site-packages (from ipykernel>=6.5.0->jupyterlab) (0.1.7)\n",
      "Requirement already satisfied: nest-asyncio in c:\\users\\lucelena_sousa\\documents\\rag-hidden-docs\\rag-env\\lib\\site-packages (from ipykernel>=6.5.0->jupyterlab) (1.6.0)\n",
      "Requirement already satisfied: psutil in c:\\users\\lucelena_sousa\\documents\\rag-hidden-docs\\rag-env\\lib\\site-packages (from ipykernel>=6.5.0->jupyterlab) (6.0.0)\n",
      "Requirement already satisfied: pyzmq>=24 in c:\\users\\lucelena_sousa\\documents\\rag-hidden-docs\\rag-env\\lib\\site-packages (from ipykernel>=6.5.0->jupyterlab) (26.2.0)\n",
      "Requirement already satisfied: MarkupSafe>=2.0 in c:\\users\\lucelena_sousa\\documents\\rag-hidden-docs\\rag-env\\lib\\site-packages (from jinja2>=3.0.3->jupyterlab) (2.1.5)\n",
      "Requirement already satisfied: platformdirs>=2.5 in c:\\users\\lucelena_sousa\\documents\\rag-hidden-docs\\rag-env\\lib\\site-packages (from jupyter-core->jupyterlab) (4.3.6)\n",
      "Requirement already satisfied: pywin32>=300 in c:\\users\\lucelena_sousa\\documents\\rag-hidden-docs\\rag-env\\lib\\site-packages (from jupyter-core->jupyterlab) (306)\n",
      "Requirement already satisfied: argon2-cffi>=21.1 in c:\\users\\lucelena_sousa\\documents\\rag-hidden-docs\\rag-env\\lib\\site-packages (from jupyter-server<3,>=2.4.0->jupyterlab) (23.1.0)\n",
      "Requirement already satisfied: jupyter-events>=0.9.0 in c:\\users\\lucelena_sousa\\documents\\rag-hidden-docs\\rag-env\\lib\\site-packages (from jupyter-server<3,>=2.4.0->jupyterlab) (0.10.0)\n",
      "Requirement already satisfied: jupyter-server-terminals>=0.4.4 in c:\\users\\lucelena_sousa\\documents\\rag-hidden-docs\\rag-env\\lib\\site-packages (from jupyter-server<3,>=2.4.0->jupyterlab) (0.5.3)\n",
      "Requirement already satisfied: nbconvert>=6.4.4 in c:\\users\\lucelena_sousa\\documents\\rag-hidden-docs\\rag-env\\lib\\site-packages (from jupyter-server<3,>=2.4.0->jupyterlab) (7.16.4)\n",
      "Requirement already satisfied: nbformat>=5.3.0 in c:\\users\\lucelena_sousa\\documents\\rag-hidden-docs\\rag-env\\lib\\site-packages (from jupyter-server<3,>=2.4.0->jupyterlab) (5.10.4)\n",
      "Requirement already satisfied: overrides>=5.0 in c:\\users\\lucelena_sousa\\documents\\rag-hidden-docs\\rag-env\\lib\\site-packages (from jupyter-server<3,>=2.4.0->jupyterlab) (7.7.0)\n",
      "Requirement already satisfied: prometheus-client>=0.9 in c:\\users\\lucelena_sousa\\documents\\rag-hidden-docs\\rag-env\\lib\\site-packages (from jupyter-server<3,>=2.4.0->jupyterlab) (0.21.0)\n",
      "Requirement already satisfied: pywinpty>=2.0.1 in c:\\users\\lucelena_sousa\\documents\\rag-hidden-docs\\rag-env\\lib\\site-packages (from jupyter-server<3,>=2.4.0->jupyterlab) (2.0.13)\n",
      "Requirement already satisfied: send2trash>=1.8.2 in c:\\users\\lucelena_sousa\\documents\\rag-hidden-docs\\rag-env\\lib\\site-packages (from jupyter-server<3,>=2.4.0->jupyterlab) (1.8.3)\n",
      "Requirement already satisfied: terminado>=0.8.3 in c:\\users\\lucelena_sousa\\documents\\rag-hidden-docs\\rag-env\\lib\\site-packages (from jupyter-server<3,>=2.4.0->jupyterlab) (0.18.1)\n",
      "Requirement already satisfied: websocket-client>=1.7 in c:\\users\\lucelena_sousa\\documents\\rag-hidden-docs\\rag-env\\lib\\site-packages (from jupyter-server<3,>=2.4.0->jupyterlab) (1.8.0)\n",
      "Requirement already satisfied: babel>=2.10 in c:\\users\\lucelena_sousa\\documents\\rag-hidden-docs\\rag-env\\lib\\site-packages (from jupyterlab-server<3,>=2.27.1->jupyterlab) (2.16.0)\n",
      "Requirement already satisfied: json5>=0.9.0 in c:\\users\\lucelena_sousa\\documents\\rag-hidden-docs\\rag-env\\lib\\site-packages (from jupyterlab-server<3,>=2.27.1->jupyterlab) (0.9.25)\n",
      "Requirement already satisfied: jsonschema>=4.18.0 in c:\\users\\lucelena_sousa\\documents\\rag-hidden-docs\\rag-env\\lib\\site-packages (from jupyterlab-server<3,>=2.27.1->jupyterlab) (4.23.0)\n",
      "Requirement already satisfied: requests>=2.31 in c:\\users\\lucelena_sousa\\documents\\rag-hidden-docs\\rag-env\\lib\\site-packages (from jupyterlab-server<3,>=2.27.1->jupyterlab) (2.32.3)\n",
      "Requirement already satisfied: argon2-cffi-bindings in c:\\users\\lucelena_sousa\\documents\\rag-hidden-docs\\rag-env\\lib\\site-packages (from argon2-cffi>=21.1->jupyter-server<3,>=2.4.0->jupyterlab) (21.2.0)\n",
      "Requirement already satisfied: decorator in c:\\users\\lucelena_sousa\\documents\\rag-hidden-docs\\rag-env\\lib\\site-packages (from ipython>=7.23.1->ipykernel>=6.5.0->jupyterlab) (5.1.1)\n",
      "Requirement already satisfied: jedi>=0.16 in c:\\users\\lucelena_sousa\\documents\\rag-hidden-docs\\rag-env\\lib\\site-packages (from ipython>=7.23.1->ipykernel>=6.5.0->jupyterlab) (0.19.1)\n",
      "Requirement already satisfied: prompt-toolkit<3.1.0,>=3.0.41 in c:\\users\\lucelena_sousa\\documents\\rag-hidden-docs\\rag-env\\lib\\site-packages (from ipython>=7.23.1->ipykernel>=6.5.0->jupyterlab) (3.0.48)\n",
      "Requirement already satisfied: pygments>=2.4.0 in c:\\users\\lucelena_sousa\\documents\\rag-hidden-docs\\rag-env\\lib\\site-packages (from ipython>=7.23.1->ipykernel>=6.5.0->jupyterlab) (2.18.0)\n",
      "Requirement already satisfied: stack-data in c:\\users\\lucelena_sousa\\documents\\rag-hidden-docs\\rag-env\\lib\\site-packages (from ipython>=7.23.1->ipykernel>=6.5.0->jupyterlab) (0.6.3)\n",
      "Requirement already satisfied: colorama in c:\\users\\lucelena_sousa\\documents\\rag-hidden-docs\\rag-env\\lib\\site-packages (from ipython>=7.23.1->ipykernel>=6.5.0->jupyterlab) (0.4.6)\n",
      "Requirement already satisfied: attrs>=22.2.0 in c:\\users\\lucelena_sousa\\documents\\rag-hidden-docs\\rag-env\\lib\\site-packages (from jsonschema>=4.18.0->jupyterlab-server<3,>=2.27.1->jupyterlab) (24.2.0)\n",
      "Requirement already satisfied: jsonschema-specifications>=2023.03.6 in c:\\users\\lucelena_sousa\\documents\\rag-hidden-docs\\rag-env\\lib\\site-packages (from jsonschema>=4.18.0->jupyterlab-server<3,>=2.27.1->jupyterlab) (2023.12.1)\n",
      "Requirement already satisfied: referencing>=0.28.4 in c:\\users\\lucelena_sousa\\documents\\rag-hidden-docs\\rag-env\\lib\\site-packages (from jsonschema>=4.18.0->jupyterlab-server<3,>=2.27.1->jupyterlab) (0.35.1)\n",
      "Requirement already satisfied: rpds-py>=0.7.1 in c:\\users\\lucelena_sousa\\documents\\rag-hidden-docs\\rag-env\\lib\\site-packages (from jsonschema>=4.18.0->jupyterlab-server<3,>=2.27.1->jupyterlab) (0.20.0)\n",
      "Requirement already satisfied: python-dateutil>=2.8.2 in c:\\users\\lucelena_sousa\\documents\\rag-hidden-docs\\rag-env\\lib\\site-packages (from jupyter-client>=6.1.12->ipykernel>=6.5.0->jupyterlab) (2.9.0.post0)\n",
      "Requirement already satisfied: python-json-logger>=2.0.4 in c:\\users\\lucelena_sousa\\documents\\rag-hidden-docs\\rag-env\\lib\\site-packages (from jupyter-events>=0.9.0->jupyter-server<3,>=2.4.0->jupyterlab) (2.0.7)\n",
      "Requirement already satisfied: pyyaml>=5.3 in c:\\users\\lucelena_sousa\\documents\\rag-hidden-docs\\rag-env\\lib\\site-packages (from jupyter-events>=0.9.0->jupyter-server<3,>=2.4.0->jupyterlab) (6.0.2)\n",
      "Requirement already satisfied: rfc3339-validator in c:\\users\\lucelena_sousa\\documents\\rag-hidden-docs\\rag-env\\lib\\site-packages (from jupyter-events>=0.9.0->jupyter-server<3,>=2.4.0->jupyterlab) (0.1.4)\n",
      "Requirement already satisfied: rfc3986-validator>=0.1.1 in c:\\users\\lucelena_sousa\\documents\\rag-hidden-docs\\rag-env\\lib\\site-packages (from jupyter-events>=0.9.0->jupyter-server<3,>=2.4.0->jupyterlab) (0.1.1)\n",
      "Requirement already satisfied: beautifulsoup4 in c:\\users\\lucelena_sousa\\documents\\rag-hidden-docs\\rag-env\\lib\\site-packages (from nbconvert>=6.4.4->jupyter-server<3,>=2.4.0->jupyterlab) (4.12.3)\n",
      "Requirement already satisfied: bleach!=5.0.0 in c:\\users\\lucelena_sousa\\documents\\rag-hidden-docs\\rag-env\\lib\\site-packages (from nbconvert>=6.4.4->jupyter-server<3,>=2.4.0->jupyterlab) (6.1.0)\n",
      "Requirement already satisfied: defusedxml in c:\\users\\lucelena_sousa\\documents\\rag-hidden-docs\\rag-env\\lib\\site-packages (from nbconvert>=6.4.4->jupyter-server<3,>=2.4.0->jupyterlab) (0.7.1)\n",
      "Requirement already satisfied: jupyterlab-pygments in c:\\users\\lucelena_sousa\\documents\\rag-hidden-docs\\rag-env\\lib\\site-packages (from nbconvert>=6.4.4->jupyter-server<3,>=2.4.0->jupyterlab) (0.3.0)\n",
      "Requirement already satisfied: mistune<4,>=2.0.3 in c:\\users\\lucelena_sousa\\documents\\rag-hidden-docs\\rag-env\\lib\\site-packages (from nbconvert>=6.4.4->jupyter-server<3,>=2.4.0->jupyterlab) (3.0.2)\n",
      "Requirement already satisfied: nbclient>=0.5.0 in c:\\users\\lucelena_sousa\\documents\\rag-hidden-docs\\rag-env\\lib\\site-packages (from nbconvert>=6.4.4->jupyter-server<3,>=2.4.0->jupyterlab) (0.10.0)\n",
      "Requirement already satisfied: pandocfilters>=1.4.1 in c:\\users\\lucelena_sousa\\documents\\rag-hidden-docs\\rag-env\\lib\\site-packages (from nbconvert>=6.4.4->jupyter-server<3,>=2.4.0->jupyterlab) (1.5.1)\n",
      "Requirement already satisfied: tinycss2 in c:\\users\\lucelena_sousa\\documents\\rag-hidden-docs\\rag-env\\lib\\site-packages (from nbconvert>=6.4.4->jupyter-server<3,>=2.4.0->jupyterlab) (1.3.0)\n",
      "Requirement already satisfied: fastjsonschema>=2.15 in c:\\users\\lucelena_sousa\\documents\\rag-hidden-docs\\rag-env\\lib\\site-packages (from nbformat>=5.3.0->jupyter-server<3,>=2.4.0->jupyterlab) (2.20.0)\n",
      "Requirement already satisfied: charset-normalizer<4,>=2 in c:\\users\\lucelena_sousa\\documents\\rag-hidden-docs\\rag-env\\lib\\site-packages (from requests>=2.31->jupyterlab-server<3,>=2.27.1->jupyterlab) (3.3.2)\n",
      "Requirement already satisfied: urllib3<3,>=1.21.1 in c:\\users\\lucelena_sousa\\documents\\rag-hidden-docs\\rag-env\\lib\\site-packages (from requests>=2.31->jupyterlab-server<3,>=2.27.1->jupyterlab) (2.2.3)\n",
      "Requirement already satisfied: six>=1.9.0 in c:\\users\\lucelena_sousa\\documents\\rag-hidden-docs\\rag-env\\lib\\site-packages (from bleach!=5.0.0->nbconvert>=6.4.4->jupyter-server<3,>=2.4.0->jupyterlab) (1.16.0)\n",
      "Requirement already satisfied: webencodings in c:\\users\\lucelena_sousa\\documents\\rag-hidden-docs\\rag-env\\lib\\site-packages (from bleach!=5.0.0->nbconvert>=6.4.4->jupyter-server<3,>=2.4.0->jupyterlab) (0.5.1)\n",
      "Requirement already satisfied: parso<0.9.0,>=0.8.3 in c:\\users\\lucelena_sousa\\documents\\rag-hidden-docs\\rag-env\\lib\\site-packages (from jedi>=0.16->ipython>=7.23.1->ipykernel>=6.5.0->jupyterlab) (0.8.4)\n",
      "Requirement already satisfied: fqdn in c:\\users\\lucelena_sousa\\documents\\rag-hidden-docs\\rag-env\\lib\\site-packages (from jsonschema[format-nongpl]>=4.18.0->jupyter-events>=0.9.0->jupyter-server<3,>=2.4.0->jupyterlab) (1.5.1)\n",
      "Requirement already satisfied: isoduration in c:\\users\\lucelena_sousa\\documents\\rag-hidden-docs\\rag-env\\lib\\site-packages (from jsonschema[format-nongpl]>=4.18.0->jupyter-events>=0.9.0->jupyter-server<3,>=2.4.0->jupyterlab) (20.11.0)\n",
      "Requirement already satisfied: jsonpointer>1.13 in c:\\users\\lucelena_sousa\\documents\\rag-hidden-docs\\rag-env\\lib\\site-packages (from jsonschema[format-nongpl]>=4.18.0->jupyter-events>=0.9.0->jupyter-server<3,>=2.4.0->jupyterlab) (3.0.0)\n",
      "Requirement already satisfied: uri-template in c:\\users\\lucelena_sousa\\documents\\rag-hidden-docs\\rag-env\\lib\\site-packages (from jsonschema[format-nongpl]>=4.18.0->jupyter-events>=0.9.0->jupyter-server<3,>=2.4.0->jupyterlab) (1.3.0)\n",
      "Requirement already satisfied: webcolors>=24.6.0 in c:\\users\\lucelena_sousa\\documents\\rag-hidden-docs\\rag-env\\lib\\site-packages (from jsonschema[format-nongpl]>=4.18.0->jupyter-events>=0.9.0->jupyter-server<3,>=2.4.0->jupyterlab) (24.8.0)\n",
      "Requirement already satisfied: wcwidth in c:\\users\\lucelena_sousa\\documents\\rag-hidden-docs\\rag-env\\lib\\site-packages (from prompt-toolkit<3.1.0,>=3.0.41->ipython>=7.23.1->ipykernel>=6.5.0->jupyterlab) (0.2.13)\n",
      "Requirement already satisfied: cffi>=1.0.1 in c:\\users\\lucelena_sousa\\documents\\rag-hidden-docs\\rag-env\\lib\\site-packages (from argon2-cffi-bindings->argon2-cffi>=21.1->jupyter-server<3,>=2.4.0->jupyterlab) (1.17.1)\n",
      "Requirement already satisfied: soupsieve>1.2 in c:\\users\\lucelena_sousa\\documents\\rag-hidden-docs\\rag-env\\lib\\site-packages (from beautifulsoup4->nbconvert>=6.4.4->jupyter-server<3,>=2.4.0->jupyterlab) (2.6)\n",
      "Requirement already satisfied: executing>=1.2.0 in c:\\users\\lucelena_sousa\\documents\\rag-hidden-docs\\rag-env\\lib\\site-packages (from stack-data->ipython>=7.23.1->ipykernel>=6.5.0->jupyterlab) (2.1.0)\n",
      "Requirement already satisfied: asttokens>=2.1.0 in c:\\users\\lucelena_sousa\\documents\\rag-hidden-docs\\rag-env\\lib\\site-packages (from stack-data->ipython>=7.23.1->ipykernel>=6.5.0->jupyterlab) (2.4.1)\n",
      "Requirement already satisfied: pure-eval in c:\\users\\lucelena_sousa\\documents\\rag-hidden-docs\\rag-env\\lib\\site-packages (from stack-data->ipython>=7.23.1->ipykernel>=6.5.0->jupyterlab) (0.2.3)\n",
      "Requirement already satisfied: pycparser in c:\\users\\lucelena_sousa\\documents\\rag-hidden-docs\\rag-env\\lib\\site-packages (from cffi>=1.0.1->argon2-cffi-bindings->argon2-cffi>=21.1->jupyter-server<3,>=2.4.0->jupyterlab) (2.22)\n",
      "Requirement already satisfied: arrow>=0.15.0 in c:\\users\\lucelena_sousa\\documents\\rag-hidden-docs\\rag-env\\lib\\site-packages (from isoduration->jsonschema[format-nongpl]>=4.18.0->jupyter-events>=0.9.0->jupyter-server<3,>=2.4.0->jupyterlab) (1.3.0)\n",
      "Requirement already satisfied: types-python-dateutil>=2.8.10 in c:\\users\\lucelena_sousa\\documents\\rag-hidden-docs\\rag-env\\lib\\site-packages (from arrow>=0.15.0->isoduration->jsonschema[format-nongpl]>=4.18.0->jupyter-events>=0.9.0->jupyter-server<3,>=2.4.0->jupyterlab) (2.9.0.20241003)\n",
      "Note: you may need to restart the kernel to use updated packages.\n"
     ]
    }
   ],
   "source": [
    "pip install --upgrade jupyterlab"
   ]
  },
  {
   "cell_type": "code",
   "execution_count": 8,
   "metadata": {},
   "outputs": [
    {
     "name": "stdout",
     "output_type": "stream",
     "text": [
      "Collecting langchain-community\n",
      "  Downloading langchain_community-0.3.1-py3-none-any.whl.metadata (2.8 kB)\n",
      "Requirement already satisfied: PyYAML>=5.3 in c:\\users\\lucelena_sousa\\documents\\rag-hidden-docs\\rag-env\\lib\\site-packages (from langchain-community) (6.0.2)\n",
      "Requirement already satisfied: SQLAlchemy<3,>=1.4 in c:\\users\\lucelena_sousa\\documents\\rag-hidden-docs\\rag-env\\lib\\site-packages (from langchain-community) (2.0.35)\n",
      "Requirement already satisfied: aiohttp<4.0.0,>=3.8.3 in c:\\users\\lucelena_sousa\\documents\\rag-hidden-docs\\rag-env\\lib\\site-packages (from langchain-community) (3.10.8)\n",
      "Collecting dataclasses-json<0.7,>=0.5.7 (from langchain-community)\n",
      "  Downloading dataclasses_json-0.6.7-py3-none-any.whl.metadata (25 kB)\n",
      "Requirement already satisfied: langchain<0.4.0,>=0.3.1 in c:\\users\\lucelena_sousa\\documents\\rag-hidden-docs\\rag-env\\lib\\site-packages (from langchain-community) (0.3.2)\n",
      "Requirement already satisfied: langchain-core<0.4.0,>=0.3.6 in c:\\users\\lucelena_sousa\\documents\\rag-hidden-docs\\rag-env\\lib\\site-packages (from langchain-community) (0.3.8)\n",
      "Requirement already satisfied: langsmith<0.2.0,>=0.1.125 in c:\\users\\lucelena_sousa\\documents\\rag-hidden-docs\\rag-env\\lib\\site-packages (from langchain-community) (0.1.129)\n",
      "Requirement already satisfied: numpy<2.0.0,>=1.26.0 in c:\\users\\lucelena_sousa\\documents\\rag-hidden-docs\\rag-env\\lib\\site-packages (from langchain-community) (1.26.4)\n",
      "Collecting pydantic-settings<3.0.0,>=2.4.0 (from langchain-community)\n",
      "  Downloading pydantic_settings-2.5.2-py3-none-any.whl.metadata (3.5 kB)\n",
      "Requirement already satisfied: requests<3,>=2 in c:\\users\\lucelena_sousa\\documents\\rag-hidden-docs\\rag-env\\lib\\site-packages (from langchain-community) (2.32.3)\n",
      "Requirement already satisfied: tenacity!=8.4.0,<9.0.0,>=8.1.0 in c:\\users\\lucelena_sousa\\documents\\rag-hidden-docs\\rag-env\\lib\\site-packages (from langchain-community) (8.5.0)\n",
      "Requirement already satisfied: aiohappyeyeballs>=2.3.0 in c:\\users\\lucelena_sousa\\documents\\rag-hidden-docs\\rag-env\\lib\\site-packages (from aiohttp<4.0.0,>=3.8.3->langchain-community) (2.4.3)\n",
      "Requirement already satisfied: aiosignal>=1.1.2 in c:\\users\\lucelena_sousa\\documents\\rag-hidden-docs\\rag-env\\lib\\site-packages (from aiohttp<4.0.0,>=3.8.3->langchain-community) (1.3.1)\n",
      "Requirement already satisfied: attrs>=17.3.0 in c:\\users\\lucelena_sousa\\documents\\rag-hidden-docs\\rag-env\\lib\\site-packages (from aiohttp<4.0.0,>=3.8.3->langchain-community) (24.2.0)\n",
      "Requirement already satisfied: frozenlist>=1.1.1 in c:\\users\\lucelena_sousa\\documents\\rag-hidden-docs\\rag-env\\lib\\site-packages (from aiohttp<4.0.0,>=3.8.3->langchain-community) (1.4.1)\n",
      "Requirement already satisfied: multidict<7.0,>=4.5 in c:\\users\\lucelena_sousa\\documents\\rag-hidden-docs\\rag-env\\lib\\site-packages (from aiohttp<4.0.0,>=3.8.3->langchain-community) (6.1.0)\n",
      "Requirement already satisfied: yarl<2.0,>=1.12.0 in c:\\users\\lucelena_sousa\\documents\\rag-hidden-docs\\rag-env\\lib\\site-packages (from aiohttp<4.0.0,>=3.8.3->langchain-community) (1.13.1)\n",
      "Collecting marshmallow<4.0.0,>=3.18.0 (from dataclasses-json<0.7,>=0.5.7->langchain-community)\n",
      "  Using cached marshmallow-3.22.0-py3-none-any.whl.metadata (7.2 kB)\n",
      "Collecting typing-inspect<1,>=0.4.0 (from dataclasses-json<0.7,>=0.5.7->langchain-community)\n",
      "  Using cached typing_inspect-0.9.0-py3-none-any.whl.metadata (1.5 kB)\n",
      "Requirement already satisfied: langchain-text-splitters<0.4.0,>=0.3.0 in c:\\users\\lucelena_sousa\\documents\\rag-hidden-docs\\rag-env\\lib\\site-packages (from langchain<0.4.0,>=0.3.1->langchain-community) (0.3.0)\n",
      "Requirement already satisfied: pydantic<3.0.0,>=2.7.4 in c:\\users\\lucelena_sousa\\documents\\rag-hidden-docs\\rag-env\\lib\\site-packages (from langchain<0.4.0,>=0.3.1->langchain-community) (2.9.2)\n",
      "Requirement already satisfied: jsonpatch<2.0,>=1.33 in c:\\users\\lucelena_sousa\\documents\\rag-hidden-docs\\rag-env\\lib\\site-packages (from langchain-core<0.4.0,>=0.3.6->langchain-community) (1.33)\n",
      "Requirement already satisfied: packaging<25,>=23.2 in c:\\users\\lucelena_sousa\\documents\\rag-hidden-docs\\rag-env\\lib\\site-packages (from langchain-core<0.4.0,>=0.3.6->langchain-community) (24.1)\n",
      "Requirement already satisfied: typing-extensions>=4.7 in c:\\users\\lucelena_sousa\\documents\\rag-hidden-docs\\rag-env\\lib\\site-packages (from langchain-core<0.4.0,>=0.3.6->langchain-community) (4.12.2)\n",
      "Requirement already satisfied: httpx<1,>=0.23.0 in c:\\users\\lucelena_sousa\\documents\\rag-hidden-docs\\rag-env\\lib\\site-packages (from langsmith<0.2.0,>=0.1.125->langchain-community) (0.27.2)\n",
      "Requirement already satisfied: orjson<4.0.0,>=3.9.14 in c:\\users\\lucelena_sousa\\documents\\rag-hidden-docs\\rag-env\\lib\\site-packages (from langsmith<0.2.0,>=0.1.125->langchain-community) (3.10.7)\n",
      "Collecting python-dotenv>=0.21.0 (from pydantic-settings<3.0.0,>=2.4.0->langchain-community)\n",
      "  Downloading python_dotenv-1.0.1-py3-none-any.whl.metadata (23 kB)\n",
      "Requirement already satisfied: charset-normalizer<4,>=2 in c:\\users\\lucelena_sousa\\documents\\rag-hidden-docs\\rag-env\\lib\\site-packages (from requests<3,>=2->langchain-community) (3.3.2)\n",
      "Requirement already satisfied: idna<4,>=2.5 in c:\\users\\lucelena_sousa\\documents\\rag-hidden-docs\\rag-env\\lib\\site-packages (from requests<3,>=2->langchain-community) (3.10)\n",
      "Requirement already satisfied: urllib3<3,>=1.21.1 in c:\\users\\lucelena_sousa\\documents\\rag-hidden-docs\\rag-env\\lib\\site-packages (from requests<3,>=2->langchain-community) (2.2.3)\n",
      "Requirement already satisfied: certifi>=2017.4.17 in c:\\users\\lucelena_sousa\\documents\\rag-hidden-docs\\rag-env\\lib\\site-packages (from requests<3,>=2->langchain-community) (2024.8.30)\n",
      "Requirement already satisfied: greenlet!=0.4.17 in c:\\users\\lucelena_sousa\\documents\\rag-hidden-docs\\rag-env\\lib\\site-packages (from SQLAlchemy<3,>=1.4->langchain-community) (3.1.1)\n",
      "Requirement already satisfied: anyio in c:\\users\\lucelena_sousa\\documents\\rag-hidden-docs\\rag-env\\lib\\site-packages (from httpx<1,>=0.23.0->langsmith<0.2.0,>=0.1.125->langchain-community) (4.6.0)\n",
      "Requirement already satisfied: httpcore==1.* in c:\\users\\lucelena_sousa\\documents\\rag-hidden-docs\\rag-env\\lib\\site-packages (from httpx<1,>=0.23.0->langsmith<0.2.0,>=0.1.125->langchain-community) (1.0.6)\n",
      "Requirement already satisfied: sniffio in c:\\users\\lucelena_sousa\\documents\\rag-hidden-docs\\rag-env\\lib\\site-packages (from httpx<1,>=0.23.0->langsmith<0.2.0,>=0.1.125->langchain-community) (1.3.1)\n",
      "Requirement already satisfied: h11<0.15,>=0.13 in c:\\users\\lucelena_sousa\\documents\\rag-hidden-docs\\rag-env\\lib\\site-packages (from httpcore==1.*->httpx<1,>=0.23.0->langsmith<0.2.0,>=0.1.125->langchain-community) (0.14.0)\n",
      "Requirement already satisfied: jsonpointer>=1.9 in c:\\users\\lucelena_sousa\\documents\\rag-hidden-docs\\rag-env\\lib\\site-packages (from jsonpatch<2.0,>=1.33->langchain-core<0.4.0,>=0.3.6->langchain-community) (3.0.0)\n",
      "Requirement already satisfied: annotated-types>=0.6.0 in c:\\users\\lucelena_sousa\\documents\\rag-hidden-docs\\rag-env\\lib\\site-packages (from pydantic<3.0.0,>=2.7.4->langchain<0.4.0,>=0.3.1->langchain-community) (0.7.0)\n",
      "Requirement already satisfied: pydantic-core==2.23.4 in c:\\users\\lucelena_sousa\\documents\\rag-hidden-docs\\rag-env\\lib\\site-packages (from pydantic<3.0.0,>=2.7.4->langchain<0.4.0,>=0.3.1->langchain-community) (2.23.4)\n",
      "Collecting mypy-extensions>=0.3.0 (from typing-inspect<1,>=0.4.0->dataclasses-json<0.7,>=0.5.7->langchain-community)\n",
      "  Using cached mypy_extensions-1.0.0-py3-none-any.whl.metadata (1.1 kB)\n",
      "Downloading langchain_community-0.3.1-py3-none-any.whl (2.4 MB)\n",
      "   ---------------------------------------- 0.0/2.4 MB ? eta -:--:--\n",
      "   ---- ----------------------------------- 0.3/2.4 MB ? eta -:--:--\n",
      "   ----------------------------------- ---- 2.1/2.4 MB 6.9 MB/s eta 0:00:01\n",
      "   ---------------------------------------- 2.4/2.4 MB 6.7 MB/s eta 0:00:00\n",
      "Downloading dataclasses_json-0.6.7-py3-none-any.whl (28 kB)\n",
      "Downloading pydantic_settings-2.5.2-py3-none-any.whl (26 kB)\n",
      "Using cached marshmallow-3.22.0-py3-none-any.whl (49 kB)\n",
      "Downloading python_dotenv-1.0.1-py3-none-any.whl (19 kB)\n",
      "Using cached typing_inspect-0.9.0-py3-none-any.whl (8.8 kB)\n",
      "Using cached mypy_extensions-1.0.0-py3-none-any.whl (4.7 kB)\n",
      "Installing collected packages: python-dotenv, mypy-extensions, marshmallow, typing-inspect, pydantic-settings, dataclasses-json, langchain-community\n",
      "Successfully installed dataclasses-json-0.6.7 langchain-community-0.3.1 marshmallow-3.22.0 mypy-extensions-1.0.0 pydantic-settings-2.5.2 python-dotenv-1.0.1 typing-inspect-0.9.0\n",
      "Note: you may need to restart the kernel to use updated packages.\n"
     ]
    }
   ],
   "source": [
    "pip install -U langchain-community"
   ]
  },
  {
   "cell_type": "code",
   "execution_count": 7,
   "metadata": {},
   "outputs": [
    {
     "name": "stdout",
     "output_type": "stream",
     "text": [
      "Requirement already satisfied: certifi in c:\\users\\lucelena_sousa\\documents\\rag-hidden-docs\\rag-env\\lib\\site-packages (2024.8.30)\n",
      "Note: you may need to restart the kernel to use updated packages.\n"
     ]
    }
   ],
   "source": [
    "pip install --upgrade certifi"
   ]
  },
  {
   "cell_type": "code",
   "execution_count": 7,
   "metadata": {},
   "outputs": [
    {
     "name": "stdout",
     "output_type": "stream",
     "text": [
      "Requirement already satisfied: faiss-cpu in c:\\users\\lucelena_sousa\\documents\\rag-hidden-docs\\rag-env\\lib\\site-packages (1.8.0.post1)\n",
      "Requirement already satisfied: numpy in c:\\users\\lucelena_sousa\\documents\\rag-hidden-docs\\rag-env\\lib\\site-packages (1.26.4)\n",
      "Requirement already satisfied: packaging in c:\\users\\lucelena_sousa\\documents\\rag-hidden-docs\\rag-env\\lib\\site-packages (from faiss-cpu) (24.1)\n",
      "Note: you may need to restart the kernel to use updated packages.\n"
     ]
    }
   ],
   "source": [
    "pip install faiss-cpu numpy"
   ]
  },
  {
   "cell_type": "code",
   "execution_count": 8,
   "metadata": {},
   "outputs": [
    {
     "name": "stdout",
     "output_type": "stream",
     "text": [
      "Requirement already satisfied: faiss-cpu[extra] in c:\\users\\lucelena_sousa\\documents\\rag-hidden-docs\\rag-env\\lib\\site-packages (1.8.0.post1)\n",
      "Requirement already satisfied: numpy<2.0,>=1.0 in c:\\users\\lucelena_sousa\\documents\\rag-hidden-docs\\rag-env\\lib\\site-packages (from faiss-cpu[extra]) (1.26.4)\n",
      "Requirement already satisfied: packaging in c:\\users\\lucelena_sousa\\documents\\rag-hidden-docs\\rag-env\\lib\\site-packages (from faiss-cpu[extra]) (24.1)\n",
      "Note: you may need to restart the kernel to use updated packages.\n"
     ]
    },
    {
     "name": "stderr",
     "output_type": "stream",
     "text": [
      "WARNING: faiss-cpu 1.8.0.post1 does not provide the extra 'extra'\n"
     ]
    }
   ],
   "source": [
    "pip install faiss-cpu[extra]"
   ]
  },
  {
   "cell_type": "code",
   "execution_count": 9,
   "metadata": {},
   "outputs": [
    {
     "name": "stdout",
     "output_type": "stream",
     "text": [
      "Note: you may need to restart the kernel to use updated packages.\n"
     ]
    },
    {
     "name": "stderr",
     "output_type": "stream",
     "text": [
      "ERROR: Could not open requirements file: [Errno 2] No such file or directory: 'requirements.txt'\n"
     ]
    }
   ],
   "source": [
    "pip install -r requirements.txt"
   ]
  },
  {
   "cell_type": "code",
   "execution_count": 1,
   "metadata": {},
   "outputs": [],
   "source": [
    "import os\n",
    "os.environ['KMP_DUPLICATE_LIB_OK'] = 'TRUE'"
   ]
  },
  {
   "cell_type": "code",
   "execution_count": 2,
   "metadata": {},
   "outputs": [
    {
     "name": "stdout",
     "output_type": "stream",
     "text": [
      "C:\\Users\\lucelena_sousa\\Documents\\rag-hidden-docs\n"
     ]
    }
   ],
   "source": [
    "import os\n",
    "os.chdir(r'C:\\Users\\lucelena_sousa\\Documents\\rag-hidden-docs')\n",
    "print(os.getcwd())"
   ]
  },
  {
   "cell_type": "code",
   "execution_count": 3,
   "metadata": {},
   "outputs": [],
   "source": [
    "import sys\n",
    "sys.path.append(r'C:\\Users\\lucelena_sousa\\Documents\\rag-hidden-docs\\src')"
   ]
  },
  {
   "cell_type": "code",
   "execution_count": 23,
   "metadata": {},
   "outputs": [],
   "source": [
    "from src.vectorizer import Vectorizer\n",
    "from src.document_loader import DocumentLoader\n",
    "from src.document_store import DocumentStore\n",
    "from src.retriever import Retriever\n",
    "\n",
    "import numpy as np\n",
    "\n",
    "\n",
    "from langchain.vectorstores import FAISS\n",
    "import faiss"
   ]
  },
  {
   "cell_type": "code",
   "execution_count": 5,
   "metadata": {},
   "outputs": [
    {
     "name": "stdout",
     "output_type": "stream",
     "text": [
      "Carregamos 3 documentos.\n"
     ]
    }
   ],
   "source": [
    "loader = DocumentLoader(data_dir=\"data\")\n",
    "documents = loader.load_documents()\n",
    "\n",
    "print(f\"Carregamos {len(documents)} documentos.\")"
   ]
  },
  {
   "cell_type": "code",
   "execution_count": 6,
   "metadata": {},
   "outputs": [
    {
     "name": "stdout",
     "output_type": "stream",
     "text": [
      "\n",
      "Documento 1:\n",
      " O MEDO, A ANSIEDADE E AS SUAS PERTURBAÇÕES \n",
      "Américo Baptista 1 \n",
      "Marina Carvalho 2 \n",
      "Fátima Lory 3 \n",
      " \n",
      " \n",
      "Resumo : É apresentado um modelo para compreensão do medo e da ansiedade, \n",
      "assim como de tratamento das suas perturbações, de acordo com o modo de actua-\n",
      "ção no Centro de Aconselhamento para Estudantes da Universidade Lusófona. O \n",
      "medo é considerado uma adaptação, de acordo com uma  perspectiva evolutiva e \n",
      "desenvolvimentista. Como qualquer adaptação varia, podendo apresentar desajus-\n",
      "tamentos  \n",
      "[...]\n",
      "\n",
      "Documento 2:\n",
      "Transtornos de ansiedade e exercício físico\n",
      "Anxiety disorders and physical exercise\n",
      "Resumo\n",
      "Objetivo:  A maioria dos estudos sobre os efeitos ansiolíticos do exercício físico, até meados da década de 90, foram realizados\n",
      "avaliando-se estados de ansiedade, com indivíduos jovens, universitários ou atletas, que podem ser considerados pré-condiciona-dos, limitando a validade das conclusões para populações com ansiedade patológica. Na atualidade, o número de estudosenvolvendo pacientes com transtorno  \n",
      "[...]\n",
      "\n",
      "Documento 3:\n",
      "SII 20Rev Bras Psiquiatr 2000;22(Supl II):20-3\n",
      "Introdução\n",
      "Ansiedade é um sentimento vago e desagrad ável de medo,\n",
      "apreensão, caracterizado por tens ão ou desconforto derivado\n",
      "de antecipa ção de perigo, de algo desconhecido ou estranho.1,2\n",
      "Em crianças, o desenvolvimento emocional influi sobre as\n",
      "causas e a maneira como se manifestam os medos e as preocu-pações tanto normais quanto patol ógicos.\n",
      "2,3 Diferentemente dos\n",
      "adultos, crian ças podem n ão reconhecer seus medos como exa-\n",
      "gerados ou irracio \n",
      "[...]\n"
     ]
    }
   ],
   "source": [
    "for i, doc in enumerate(documents):\n",
    "    print(f\"\\nDocumento {i + 1}:\")\n",
    "    print(doc[:500], \"\\n[...]\")"
   ]
  },
  {
   "cell_type": "code",
   "execution_count": 7,
   "metadata": {},
   "outputs": [
    {
     "name": "stderr",
     "output_type": "stream",
     "text": [
      "c:\\Users\\lucelena_sousa\\Documents\\rag-hidden-docs\\rag-env\\Lib\\site-packages\\transformers\\tokenization_utils_base.py:1617: FutureWarning: `clean_up_tokenization_spaces` was not set. It will be set to `True` by default. This behavior will be deprecated in transformers v4.45, and will be then set to `False` by default. For more details check this issue: https://github.com/huggingface/transformers/issues/31884\n",
      "  warnings.warn(\n"
     ]
    }
   ],
   "source": [
    "vectorizer = Vectorizer(model_name=\"sentence-transformers/all-MiniLM-L6-v2\")"
   ]
  },
  {
   "cell_type": "code",
   "execution_count": 8,
   "metadata": {},
   "outputs": [
    {
     "name": "stdout",
     "output_type": "stream",
     "text": [
      "\n",
      "Geramos embeddings para 3 documentos.\n"
     ]
    }
   ],
   "source": [
    "embeddings = [vectorizer.embed_text(doc) for doc in documents]\n",
    "print(f\"\\nGeramos embeddings para {len(embeddings)} documentos.\")"
   ]
  },
  {
   "cell_type": "code",
   "execution_count": 9,
   "metadata": {},
   "outputs": [],
   "source": [
    "embeddings = np.array(embeddings)"
   ]
  },
  {
   "cell_type": "code",
   "execution_count": 10,
   "metadata": {},
   "outputs": [],
   "source": [
    "embeddings = np.squeeze(embeddings)"
   ]
  },
  {
   "cell_type": "code",
   "execution_count": 11,
   "metadata": {},
   "outputs": [
    {
     "name": "stdout",
     "output_type": "stream",
     "text": [
      "(3, 384)\n"
     ]
    }
   ],
   "source": [
    "print(embeddings.shape)  # Verificando a forma do array de embeddings"
   ]
  },
  {
   "cell_type": "code",
   "execution_count": 12,
   "metadata": {},
   "outputs": [],
   "source": [
    "store = DocumentStore(embedding_dim=embeddings.shape[1])\n",
    "store.add_embeddings(embeddings)"
   ]
  },
  {
   "cell_type": "code",
   "execution_count": 13,
   "metadata": {},
   "outputs": [
    {
     "name": "stdout",
     "output_type": "stream",
     "text": [
      "Embeddings armazenados no FAISS.\n"
     ]
    }
   ],
   "source": [
    "print(\"Embeddings armazenados no FAISS.\")"
   ]
  },
  {
   "cell_type": "code",
   "execution_count": 14,
   "metadata": {},
   "outputs": [],
   "source": [
    "query = \"Documentos sobre ansiedade\"\n",
    "query_embedding = vectorizer.embed_text(query)"
   ]
  },
  {
   "cell_type": "code",
   "execution_count": null,
   "metadata": {},
   "outputs": [],
   "source": [
    "query_embedding = query_embedding.squeeze()  # Remove a dimensão extra se for (1, d)\n",
    "similar_docs = store.search_similar(query_embedding, top_k=3)"
   ]
  },
  {
   "cell_type": "code",
   "execution_count": 16,
   "metadata": {},
   "outputs": [],
   "source": [
    "similar_docs = store.search_similar(query_embedding, top_k=3)"
   ]
  },
  {
   "cell_type": "code",
   "execution_count": 17,
   "metadata": {},
   "outputs": [
    {
     "name": "stdout",
     "output_type": "stream",
     "text": [
      "\n",
      "Documentos mais relevantes para a consulta 'Documentos sobre ansiedade':\n",
      "Documento 1:  O MEDO, A ANSIEDADE E AS SUAS PERTURBAÇÕES \n",
      "Américo Baptista 1 \n",
      "Marina Carvalho 2 \n",
      "Fátima Lory 3 \n",
      " \n",
      " \n",
      "Resumo : É apresentado um modelo para compreensão do medo e da ansiedade, \n",
      "assim como de tratamento das suas perturbações, de acordo com o modo de actua-\n",
      "ção no Centro de Aconselhamento para Estudantes da Universidade Lusófona. O \n",
      "medo é considerado uma adaptação, de acordo com uma  perspectiva evolutiva e \n",
      "desenvolvimentista. Como qualquer adaptação varia, podendo apresentar desajus-\n",
      "tamentos  \n",
      "[...]\n",
      "Documento 3: SII 20Rev Bras Psiquiatr 2000;22(Supl II):20-3\n",
      "Introdução\n",
      "Ansiedade é um sentimento vago e desagrad ável de medo,\n",
      "apreensão, caracterizado por tens ão ou desconforto derivado\n",
      "de antecipa ção de perigo, de algo desconhecido ou estranho.1,2\n",
      "Em crianças, o desenvolvimento emocional influi sobre as\n",
      "causas e a maneira como se manifestam os medos e as preocu-pações tanto normais quanto patol ógicos.\n",
      "2,3 Diferentemente dos\n",
      "adultos, crian ças podem n ão reconhecer seus medos como exa-\n",
      "gerados ou irracio \n",
      "[...]\n",
      "Documento 2: Transtornos de ansiedade e exercício físico\n",
      "Anxiety disorders and physical exercise\n",
      "Resumo\n",
      "Objetivo:  A maioria dos estudos sobre os efeitos ansiolíticos do exercício físico, até meados da década de 90, foram realizados\n",
      "avaliando-se estados de ansiedade, com indivíduos jovens, universitários ou atletas, que podem ser considerados pré-condiciona-dos, limitando a validade das conclusões para populações com ansiedade patológica. Na atualidade, o número de estudosenvolvendo pacientes com transtorno  \n",
      "[...]\n"
     ]
    }
   ],
   "source": [
    "print(f\"\\nDocumentos mais relevantes para a consulta '{query}':\")\n",
    "for idx in similar_docs[0]:\n",
    "    print(f\"Documento {idx + 1}: {documents[idx][:500]} \\n[...]\")"
   ]
  },
  {
   "cell_type": "code",
   "execution_count": 18,
   "metadata": {},
   "outputs": [],
   "source": [
    "from langchain.embeddings import HuggingFaceEmbeddings\n",
    "from langchain.vectorstores import FAISS"
   ]
  },
  {
   "cell_type": "code",
   "execution_count": 20,
   "metadata": {},
   "outputs": [
    {
     "name": "stdout",
     "output_type": "stream",
     "text": [
      "Collecting sentence-transformers\n",
      "  Downloading sentence_transformers-3.1.1-py3-none-any.whl.metadata (10 kB)\n",
      "Requirement already satisfied: transformers<5.0.0,>=4.38.0 in c:\\users\\lucelena_sousa\\documents\\rag-hidden-docs\\rag-env\\lib\\site-packages (from sentence-transformers) (4.45.1)\n",
      "Requirement already satisfied: tqdm in c:\\users\\lucelena_sousa\\documents\\rag-hidden-docs\\rag-env\\lib\\site-packages (from sentence-transformers) (4.66.5)\n",
      "Requirement already satisfied: torch>=1.11.0 in c:\\users\\lucelena_sousa\\documents\\rag-hidden-docs\\rag-env\\lib\\site-packages (from sentence-transformers) (2.4.1)\n",
      "Collecting scikit-learn (from sentence-transformers)\n",
      "  Downloading scikit_learn-1.5.2-cp312-cp312-win_amd64.whl.metadata (13 kB)\n",
      "Collecting scipy (from sentence-transformers)\n",
      "  Downloading scipy-1.14.1-cp312-cp312-win_amd64.whl.metadata (60 kB)\n",
      "Requirement already satisfied: huggingface-hub>=0.19.3 in c:\\users\\lucelena_sousa\\documents\\rag-hidden-docs\\rag-env\\lib\\site-packages (from sentence-transformers) (0.25.1)\n",
      "Collecting Pillow (from sentence-transformers)\n",
      "  Downloading pillow-10.4.0-cp312-cp312-win_amd64.whl.metadata (9.3 kB)\n",
      "Requirement already satisfied: filelock in c:\\users\\lucelena_sousa\\documents\\rag-hidden-docs\\rag-env\\lib\\site-packages (from huggingface-hub>=0.19.3->sentence-transformers) (3.16.1)\n",
      "Requirement already satisfied: fsspec>=2023.5.0 in c:\\users\\lucelena_sousa\\documents\\rag-hidden-docs\\rag-env\\lib\\site-packages (from huggingface-hub>=0.19.3->sentence-transformers) (2024.9.0)\n",
      "Requirement already satisfied: packaging>=20.9 in c:\\users\\lucelena_sousa\\documents\\rag-hidden-docs\\rag-env\\lib\\site-packages (from huggingface-hub>=0.19.3->sentence-transformers) (24.1)\n",
      "Requirement already satisfied: pyyaml>=5.1 in c:\\users\\lucelena_sousa\\documents\\rag-hidden-docs\\rag-env\\lib\\site-packages (from huggingface-hub>=0.19.3->sentence-transformers) (6.0.2)\n",
      "Requirement already satisfied: requests in c:\\users\\lucelena_sousa\\documents\\rag-hidden-docs\\rag-env\\lib\\site-packages (from huggingface-hub>=0.19.3->sentence-transformers) (2.32.3)\n",
      "Requirement already satisfied: typing-extensions>=3.7.4.3 in c:\\users\\lucelena_sousa\\documents\\rag-hidden-docs\\rag-env\\lib\\site-packages (from huggingface-hub>=0.19.3->sentence-transformers) (4.12.2)\n",
      "Requirement already satisfied: sympy in c:\\users\\lucelena_sousa\\documents\\rag-hidden-docs\\rag-env\\lib\\site-packages (from torch>=1.11.0->sentence-transformers) (1.13.3)\n",
      "Requirement already satisfied: networkx in c:\\users\\lucelena_sousa\\documents\\rag-hidden-docs\\rag-env\\lib\\site-packages (from torch>=1.11.0->sentence-transformers) (3.3)\n",
      "Requirement already satisfied: jinja2 in c:\\users\\lucelena_sousa\\documents\\rag-hidden-docs\\rag-env\\lib\\site-packages (from torch>=1.11.0->sentence-transformers) (3.1.4)\n",
      "Requirement already satisfied: setuptools in c:\\users\\lucelena_sousa\\documents\\rag-hidden-docs\\rag-env\\lib\\site-packages (from torch>=1.11.0->sentence-transformers) (75.1.0)\n",
      "Requirement already satisfied: colorama in c:\\users\\lucelena_sousa\\documents\\rag-hidden-docs\\rag-env\\lib\\site-packages (from tqdm->sentence-transformers) (0.4.6)\n",
      "Requirement already satisfied: numpy>=1.17 in c:\\users\\lucelena_sousa\\documents\\rag-hidden-docs\\rag-env\\lib\\site-packages (from transformers<5.0.0,>=4.38.0->sentence-transformers) (1.26.4)\n",
      "Requirement already satisfied: regex!=2019.12.17 in c:\\users\\lucelena_sousa\\documents\\rag-hidden-docs\\rag-env\\lib\\site-packages (from transformers<5.0.0,>=4.38.0->sentence-transformers) (2024.9.11)\n",
      "Requirement already satisfied: safetensors>=0.4.1 in c:\\users\\lucelena_sousa\\documents\\rag-hidden-docs\\rag-env\\lib\\site-packages (from transformers<5.0.0,>=4.38.0->sentence-transformers) (0.4.5)\n",
      "Requirement already satisfied: tokenizers<0.21,>=0.20 in c:\\users\\lucelena_sousa\\documents\\rag-hidden-docs\\rag-env\\lib\\site-packages (from transformers<5.0.0,>=4.38.0->sentence-transformers) (0.20.0)\n",
      "Collecting joblib>=1.2.0 (from scikit-learn->sentence-transformers)\n",
      "  Downloading joblib-1.4.2-py3-none-any.whl.metadata (5.4 kB)\n",
      "Collecting threadpoolctl>=3.1.0 (from scikit-learn->sentence-transformers)\n",
      "  Downloading threadpoolctl-3.5.0-py3-none-any.whl.metadata (13 kB)\n",
      "Requirement already satisfied: MarkupSafe>=2.0 in c:\\users\\lucelena_sousa\\documents\\rag-hidden-docs\\rag-env\\lib\\site-packages (from jinja2->torch>=1.11.0->sentence-transformers) (2.1.5)\n",
      "Requirement already satisfied: charset-normalizer<4,>=2 in c:\\users\\lucelena_sousa\\documents\\rag-hidden-docs\\rag-env\\lib\\site-packages (from requests->huggingface-hub>=0.19.3->sentence-transformers) (3.3.2)\n",
      "Requirement already satisfied: idna<4,>=2.5 in c:\\users\\lucelena_sousa\\documents\\rag-hidden-docs\\rag-env\\lib\\site-packages (from requests->huggingface-hub>=0.19.3->sentence-transformers) (3.10)\n",
      "Requirement already satisfied: urllib3<3,>=1.21.1 in c:\\users\\lucelena_sousa\\documents\\rag-hidden-docs\\rag-env\\lib\\site-packages (from requests->huggingface-hub>=0.19.3->sentence-transformers) (2.2.3)\n",
      "Requirement already satisfied: certifi>=2017.4.17 in c:\\users\\lucelena_sousa\\documents\\rag-hidden-docs\\rag-env\\lib\\site-packages (from requests->huggingface-hub>=0.19.3->sentence-transformers) (2024.8.30)\n",
      "Requirement already satisfied: mpmath<1.4,>=1.1.0 in c:\\users\\lucelena_sousa\\documents\\rag-hidden-docs\\rag-env\\lib\\site-packages (from sympy->torch>=1.11.0->sentence-transformers) (1.3.0)\n",
      "Downloading sentence_transformers-3.1.1-py3-none-any.whl (245 kB)\n",
      "Downloading pillow-10.4.0-cp312-cp312-win_amd64.whl (2.6 MB)\n",
      "   ---------------------------------------- 0.0/2.6 MB ? eta -:--:--\n",
      "   -------- ------------------------------- 0.5/2.6 MB 3.4 MB/s eta 0:00:01\n",
      "   ------------------------------------ --- 2.4/2.6 MB 6.7 MB/s eta 0:00:01\n",
      "   ---------------------------------------- 2.6/2.6 MB 6.7 MB/s eta 0:00:00\n",
      "Downloading scikit_learn-1.5.2-cp312-cp312-win_amd64.whl (11.0 MB)\n",
      "   ---------------------------------------- 0.0/11.0 MB ? eta -:--:--\n",
      "   --- ------------------------------------ 1.0/11.0 MB 10.0 MB/s eta 0:00:01\n",
      "   --------- ------------------------------ 2.6/11.0 MB 6.3 MB/s eta 0:00:02\n",
      "   -------------- ------------------------- 3.9/11.0 MB 6.2 MB/s eta 0:00:02\n",
      "   ------------------ --------------------- 5.0/11.0 MB 6.2 MB/s eta 0:00:01\n",
      "   --------------------- ------------------ 6.0/11.0 MB 5.9 MB/s eta 0:00:01\n",
      "   ------------------------- -------------- 7.1/11.0 MB 5.7 MB/s eta 0:00:01\n",
      "   ----------------------------- ---------- 8.1/11.0 MB 5.6 MB/s eta 0:00:01\n",
      "   --------------------------------- ------ 9.2/11.0 MB 5.4 MB/s eta 0:00:01\n",
      "   ------------------------------------- -- 10.2/11.0 MB 5.4 MB/s eta 0:00:01\n",
      "   ---------------------------------------  10.7/11.0 MB 5.4 MB/s eta 0:00:01\n",
      "   ---------------------------------------- 11.0/11.0 MB 5.2 MB/s eta 0:00:00\n",
      "Downloading scipy-1.14.1-cp312-cp312-win_amd64.whl (44.5 MB)\n",
      "   ---------------------------------------- 0.0/44.5 MB ? eta -:--:--\n",
      "    --------------------------------------- 0.8/44.5 MB 4.8 MB/s eta 0:00:10\n",
      "   - -------------------------------------- 2.1/44.5 MB 5.1 MB/s eta 0:00:09\n",
      "   -- ------------------------------------- 3.1/44.5 MB 5.3 MB/s eta 0:00:08\n",
      "   --- ------------------------------------ 4.2/44.5 MB 5.2 MB/s eta 0:00:08\n",
      "   ---- ----------------------------------- 5.2/44.5 MB 5.3 MB/s eta 0:00:08\n",
      "   ----- ---------------------------------- 6.6/44.5 MB 5.4 MB/s eta 0:00:08\n",
      "   ------ --------------------------------- 7.6/44.5 MB 5.4 MB/s eta 0:00:07\n",
      "   -------- ------------------------------- 8.9/44.5 MB 5.4 MB/s eta 0:00:07\n",
      "   -------- ------------------------------- 10.0/44.5 MB 5.4 MB/s eta 0:00:07\n",
      "   ---------- ----------------------------- 11.3/44.5 MB 5.4 MB/s eta 0:00:07\n",
      "   ----------- ---------------------------- 12.3/44.5 MB 5.5 MB/s eta 0:00:06\n",
      "   ------------ --------------------------- 13.6/44.5 MB 5.5 MB/s eta 0:00:06\n",
      "   ------------- -------------------------- 14.9/44.5 MB 5.5 MB/s eta 0:00:06\n",
      "   -------------- ------------------------- 16.0/44.5 MB 5.5 MB/s eta 0:00:06\n",
      "   --------------- ------------------------ 17.3/44.5 MB 5.5 MB/s eta 0:00:05\n",
      "   ---------------- ----------------------- 17.8/44.5 MB 5.6 MB/s eta 0:00:05\n",
      "   ----------------- ---------------------- 19.1/44.5 MB 5.4 MB/s eta 0:00:05\n",
      "   ----------------- ---------------------- 19.9/44.5 MB 5.4 MB/s eta 0:00:05\n",
      "   ------------------ --------------------- 21.0/44.5 MB 5.3 MB/s eta 0:00:05\n",
      "   ------------------- -------------------- 22.0/44.5 MB 5.3 MB/s eta 0:00:05\n",
      "   -------------------- ------------------- 22.8/44.5 MB 5.2 MB/s eta 0:00:05\n",
      "   --------------------- ------------------ 23.9/44.5 MB 5.2 MB/s eta 0:00:04\n",
      "   ---------------------- ----------------- 24.9/44.5 MB 5.2 MB/s eta 0:00:04\n",
      "   ----------------------- ---------------- 26.0/44.5 MB 5.2 MB/s eta 0:00:04\n",
      "   ------------------------ --------------- 27.0/44.5 MB 5.2 MB/s eta 0:00:04\n",
      "   ------------------------- -------------- 28.3/44.5 MB 5.2 MB/s eta 0:00:04\n",
      "   -------------------------- ------------- 29.4/44.5 MB 5.2 MB/s eta 0:00:03\n",
      "   -------------------------- ------------- 29.9/44.5 MB 5.2 MB/s eta 0:00:03\n",
      "   --------------------------- ------------ 30.7/44.5 MB 5.1 MB/s eta 0:00:03\n",
      "   ---------------------------- ----------- 31.5/44.5 MB 5.1 MB/s eta 0:00:03\n",
      "   ----------------------------- ---------- 32.5/44.5 MB 5.0 MB/s eta 0:00:03\n",
      "   ----------------------------- ---------- 33.3/44.5 MB 5.0 MB/s eta 0:00:03\n",
      "   ------------------------------ --------- 34.1/44.5 MB 5.0 MB/s eta 0:00:03\n",
      "   ------------------------------- -------- 34.9/44.5 MB 4.9 MB/s eta 0:00:02\n",
      "   -------------------------------- ------- 35.9/44.5 MB 4.9 MB/s eta 0:00:02\n",
      "   -------------------------------- ------- 36.7/44.5 MB 4.9 MB/s eta 0:00:02\n",
      "   --------------------------------- ------ 37.7/44.5 MB 4.9 MB/s eta 0:00:02\n",
      "   ---------------------------------- ----- 38.5/44.5 MB 4.9 MB/s eta 0:00:02\n",
      "   ----------------------------------- ---- 39.6/44.5 MB 4.9 MB/s eta 0:00:02\n",
      "   ------------------------------------ --- 40.6/44.5 MB 4.9 MB/s eta 0:00:01\n",
      "   ------------------------------------- -- 41.4/44.5 MB 4.9 MB/s eta 0:00:01\n",
      "   -------------------------------------- - 42.5/44.5 MB 4.8 MB/s eta 0:00:01\n",
      "   -------------------------------------- - 43.3/44.5 MB 4.8 MB/s eta 0:00:01\n",
      "   ---------------------------------------  44.3/44.5 MB 4.8 MB/s eta 0:00:01\n",
      "   ---------------------------------------- 44.5/44.5 MB 4.8 MB/s eta 0:00:00\n",
      "Downloading joblib-1.4.2-py3-none-any.whl (301 kB)\n",
      "Downloading threadpoolctl-3.5.0-py3-none-any.whl (18 kB)\n",
      "Installing collected packages: threadpoolctl, scipy, Pillow, joblib, scikit-learn, sentence-transformers\n",
      "Successfully installed Pillow-10.4.0 joblib-1.4.2 scikit-learn-1.5.2 scipy-1.14.1 sentence-transformers-3.1.1 threadpoolctl-3.5.0\n",
      "Note: you may need to restart the kernel to use updated packages.\n"
     ]
    }
   ],
   "source": [
    "pip install sentence-transformers"
   ]
  },
  {
   "cell_type": "code",
   "execution_count": 21,
   "metadata": {},
   "outputs": [
    {
     "data": {
      "application/vnd.jupyter.widget-view+json": {
       "model_id": "d3de6772a9d545a1a8852bd6bd67da53",
       "version_major": 2,
       "version_minor": 0
      },
      "text/plain": [
       "modules.json:   0%|          | 0.00/349 [00:00<?, ?B/s]"
      ]
     },
     "metadata": {},
     "output_type": "display_data"
    },
    {
     "name": "stderr",
     "output_type": "stream",
     "text": [
      "c:\\Users\\lucelena_sousa\\Documents\\rag-hidden-docs\\rag-env\\Lib\\site-packages\\huggingface_hub\\file_download.py:147: UserWarning: `huggingface_hub` cache-system uses symlinks by default to efficiently store duplicated files but your machine does not support them in C:\\Users\\lucelena_sousa\\.cache\\huggingface\\hub\\models--sentence-transformers--all-MiniLM-L6-v2. Caching files will still work but in a degraded version that might require more space on your disk. This warning can be disabled by setting the `HF_HUB_DISABLE_SYMLINKS_WARNING` environment variable. For more details, see https://huggingface.co/docs/huggingface_hub/how-to-cache#limitations.\n",
      "To support symlinks on Windows, you either need to activate Developer Mode or to run Python as an administrator. In order to activate developer mode, see this article: https://docs.microsoft.com/en-us/windows/apps/get-started/enable-your-device-for-development\n",
      "  warnings.warn(message)\n"
     ]
    },
    {
     "data": {
      "application/vnd.jupyter.widget-view+json": {
       "model_id": "a6335f89ad274ac584ab690140424f16",
       "version_major": 2,
       "version_minor": 0
      },
      "text/plain": [
       "config_sentence_transformers.json:   0%|          | 0.00/116 [00:00<?, ?B/s]"
      ]
     },
     "metadata": {},
     "output_type": "display_data"
    },
    {
     "data": {
      "application/vnd.jupyter.widget-view+json": {
       "model_id": "e6b5d341e2cc4811bfa0b4ad437a71b5",
       "version_major": 2,
       "version_minor": 0
      },
      "text/plain": [
       "README.md:   0%|          | 0.00/10.7k [00:00<?, ?B/s]"
      ]
     },
     "metadata": {},
     "output_type": "display_data"
    },
    {
     "data": {
      "application/vnd.jupyter.widget-view+json": {
       "model_id": "7e47c8b7e5ec4e4dbe9820eaa5924715",
       "version_major": 2,
       "version_minor": 0
      },
      "text/plain": [
       "sentence_bert_config.json:   0%|          | 0.00/53.0 [00:00<?, ?B/s]"
      ]
     },
     "metadata": {},
     "output_type": "display_data"
    },
    {
     "name": "stderr",
     "output_type": "stream",
     "text": [
      "c:\\Users\\lucelena_sousa\\Documents\\rag-hidden-docs\\rag-env\\Lib\\site-packages\\transformers\\tokenization_utils_base.py:1617: FutureWarning: `clean_up_tokenization_spaces` was not set. It will be set to `True` by default. This behavior will be deprecated in transformers v4.45, and will be then set to `False` by default. For more details check this issue: https://github.com/huggingface/transformers/issues/31884\n",
      "  warnings.warn(\n"
     ]
    },
    {
     "data": {
      "application/vnd.jupyter.widget-view+json": {
       "model_id": "f425ff729df149c3aa8e45d947fdf4ee",
       "version_major": 2,
       "version_minor": 0
      },
      "text/plain": [
       "1_Pooling/config.json:   0%|          | 0.00/190 [00:00<?, ?B/s]"
      ]
     },
     "metadata": {},
     "output_type": "display_data"
    }
   ],
   "source": [
    "langchain_embeddings = HuggingFaceEmbeddings(model_name=\"sentence-transformers/all-MiniLM-L6-v2\")"
   ]
  },
  {
   "cell_type": "code",
   "execution_count": 25,
   "metadata": {},
   "outputs": [],
   "source": [
    "embedding_dim = 384 \n",
    "index = faiss.IndexFlatL2(embedding_dim)  # índice FAISS para busca de vizinhança"
   ]
  },
  {
   "cell_type": "code",
   "execution_count": 26,
   "metadata": {},
   "outputs": [],
   "source": [
    "docstore = {} \n",
    "index_to_docstore_id = {}  # Mapeamento entre IDs e documentos"
   ]
  },
  {
   "cell_type": "code",
   "execution_count": 29,
   "metadata": {},
   "outputs": [
    {
     "ename": "TypeError",
     "evalue": "FAISS.__init__() missing 1 required positional argument: 'embedding_function'",
     "output_type": "error",
     "traceback": [
      "\u001b[1;31m---------------------------------------------------------------------------\u001b[0m",
      "\u001b[1;31mTypeError\u001b[0m                                 Traceback (most recent call last)",
      "Cell \u001b[1;32mIn[29], line 1\u001b[0m\n\u001b[1;32m----> 1\u001b[0m vectorstore \u001b[38;5;241m=\u001b[39m \u001b[43mFAISS\u001b[49m\u001b[43m(\u001b[49m\n\u001b[0;32m      2\u001b[0m \u001b[43m    \u001b[49m\u001b[43mindex\u001b[49m\u001b[38;5;241;43m=\u001b[39;49m\u001b[43mindex\u001b[49m\u001b[43m,\u001b[49m\n\u001b[0;32m      3\u001b[0m \u001b[43m    \u001b[49m\u001b[43mdocstore\u001b[49m\u001b[38;5;241;43m=\u001b[39;49m\u001b[43mdocstore\u001b[49m\u001b[43m,\u001b[49m\n\u001b[0;32m      4\u001b[0m \u001b[43m    \u001b[49m\u001b[43mindex_to_docstore_id\u001b[49m\u001b[38;5;241;43m=\u001b[39;49m\u001b[43mindex_to_docstore_id\u001b[49m\n\u001b[0;32m      5\u001b[0m \u001b[43m)\u001b[49m\n",
      "\u001b[1;31mTypeError\u001b[0m: FAISS.__init__() missing 1 required positional argument: 'embedding_function'"
     ]
    }
   ],
   "source": [
    "vectorstore = FAISS(\n",
    "    index=index,\n",
    "    docstore=docstore,\n",
    "    index_to_docstore_id=index_to_docstore_id\n",
    ")"
   ]
  },
  {
   "cell_type": "code",
   "execution_count": null,
   "metadata": {},
   "outputs": [],
   "source": []
  }
 ],
 "metadata": {
  "kernelspec": {
   "display_name": "rag-env",
   "language": "python",
   "name": "python3"
  },
  "language_info": {
   "codemirror_mode": {
    "name": "ipython",
    "version": 3
   },
   "file_extension": ".py",
   "mimetype": "text/x-python",
   "name": "python",
   "nbconvert_exporter": "python",
   "pygments_lexer": "ipython3",
   "version": "3.12.7"
  }
 },
 "nbformat": 4,
 "nbformat_minor": 2
}
